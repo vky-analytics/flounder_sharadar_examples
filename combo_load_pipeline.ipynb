{
 "cells": [
  {
   "cell_type": "markdown",
   "metadata": {},
   "source": [
    "## Loading Sharadar SEP and Daily Bundles for Running the Zipline Pipeline"
   ]
  },
  {
   "cell_type": "markdown",
   "metadata": {},
   "source": [
    "The notebook demonstrates and tests the interface for running the Zipline open-source research platform with two Sharadar data bundles, daily prices and fundamentals (ingested with the corresponding notebooks within this repository). This example consists of six steps: (1) building the pipeline engine, (2) building pipeline, (3) running it, (4) reading the Sharadar files for comparison with pipeline output, (5) unadjusting Sharadar split-adjusted prices and merging them with daily fundamentals, (6) and testing the pipeline data."
   ]
  },
  {
   "cell_type": "code",
   "execution_count": 1,
   "metadata": {},
   "outputs": [],
   "source": [
    "import os\n",
    "import time\n",
    "import numpy as np\n",
    "import pandas as pd\n",
    "import matplotlib.pyplot as plt\n",
    "%matplotlib inline\n",
    "\n",
    "import warnings\n",
    "warnings.filterwarnings('ignore')"
   ]
  },
  {
   "cell_type": "markdown",
   "metadata": {},
   "source": [
    "Importing the fsharadar.sep and fsharadar.daily modules from the Flounder extension"
   ]
  },
  {
   "cell_type": "code",
   "execution_count": 2,
   "metadata": {},
   "outputs": [],
   "source": [
    "from fsharadar import sep\n",
    "from fsharadar import daily"
   ]
  },
  {
   "cell_type": "markdown",
   "metadata": {},
   "source": [
    "## 1. Building Pipeline Engine"
   ]
  },
  {
   "cell_type": "markdown",
   "metadata": {},
   "source": [
    "Loading Sharadar bundles"
   ]
  },
  {
   "cell_type": "code",
   "execution_count": 3,
   "metadata": {},
   "outputs": [],
   "source": [
    "sep_bundle_data = sep.load()\n",
    "daily_bundle_data = daily.load()"
   ]
  },
  {
   "cell_type": "markdown",
   "metadata": {},
   "source": [
    "Combining bundle-specific pipeline loaders"
   ]
  },
  {
   "cell_type": "code",
   "execution_count": 4,
   "metadata": {},
   "outputs": [],
   "source": [
    "from zipline.pipeline.data import USEquityPricing\n",
    "\n",
    "sep_pipe_loader = sep.PipelineLoader(sep_bundle_data)\n",
    "daily_pipe_loader = daily.PipelineLoader(daily_bundle_data)\n",
    "\n",
    "def get_pipe_loader(column):\n",
    "    if column in USEquityPricing.columns:\n",
    "        return sep_pipe_loader\n",
    "    if column in daily.Fundamentals.columns:\n",
    "        return daily_pipe_loader\n",
    "    raise ValueError(\"No PipelineLoader registered for column %s.\" % column)"
   ]
  },
  {
   "cell_type": "markdown",
   "metadata": {},
   "source": [
    "Selecting pipeline asset_finder"
   ]
  },
  {
   "cell_type": "code",
   "execution_count": 5,
   "metadata": {},
   "outputs": [],
   "source": [
    "pipe_asset_finder = sep_bundle_data.asset_finder"
   ]
  },
  {
   "cell_type": "markdown",
   "metadata": {},
   "source": [
    "Defining the Zipline pipeline engine"
   ]
  },
  {
   "cell_type": "code",
   "execution_count": 6,
   "metadata": {},
   "outputs": [],
   "source": [
    "from zipline.pipeline.engine import SimplePipelineEngine\n",
    "\n",
    "engine = SimplePipelineEngine(\n",
    "    get_loader=get_pipe_loader,\n",
    "    asset_finder=pipe_asset_finder,\n",
    ")"
   ]
  },
  {
   "cell_type": "markdown",
   "metadata": {},
   "source": [
    "## 2. Building Pipeline"
   ]
  },
  {
   "cell_type": "markdown",
   "metadata": {},
   "source": [
    "Reviewing characteristics of the bundle-specific data sets"
   ]
  },
  {
   "cell_type": "code",
   "execution_count": 7,
   "metadata": {},
   "outputs": [
    {
     "data": {
      "text/plain": [
       "frozenset({EquityPricing<US>.close::float64,\n",
       "           EquityPricing<US>.currency::object,\n",
       "           EquityPricing<US>.high::float64,\n",
       "           EquityPricing<US>.low::float64,\n",
       "           EquityPricing<US>.open::float64,\n",
       "           EquityPricing<US>.volume::float64})"
      ]
     },
     "execution_count": 7,
     "metadata": {},
     "output_type": "execute_result"
    }
   ],
   "source": [
    "USEquityPricing.columns"
   ]
  },
  {
   "cell_type": "code",
   "execution_count": 8,
   "metadata": {},
   "outputs": [
    {
     "data": {
      "text/plain": [
       "frozenset({FundamentalsDataSet<US>.currency::object,\n",
       "           FundamentalsDataSet<US>.ev::float64,\n",
       "           FundamentalsDataSet<US>.evebit::float64,\n",
       "           FundamentalsDataSet<US>.evebitda::float64,\n",
       "           FundamentalsDataSet<US>.marketcap::float64,\n",
       "           FundamentalsDataSet<US>.pb::float64,\n",
       "           FundamentalsDataSet<US>.pe::float64,\n",
       "           FundamentalsDataSet<US>.ps::float64})"
      ]
     },
     "execution_count": 8,
     "metadata": {},
     "output_type": "execute_result"
    }
   ],
   "source": [
    "daily.Fundamentals.columns"
   ]
  },
  {
   "cell_type": "markdown",
   "metadata": {},
   "source": [
    "Selecting common assets"
   ]
  },
  {
   "cell_type": "code",
   "execution_count": 9,
   "metadata": {},
   "outputs": [
    {
     "name": "stdout",
     "output_type": "stream",
     "text": [
      "11663 9266 9161\n"
     ]
    }
   ],
   "source": [
    "sep_asset_finder = sep_bundle_data.asset_finder\n",
    "sep_assets = sep_asset_finder.retrieve_all(sep_asset_finder.sids)\n",
    "\n",
    "daily_asset_finder = daily_bundle_data.asset_finder\n",
    "daily_assets = daily_asset_finder.retrieve_all(daily_asset_finder.sids)\n",
    "\n",
    "common_assets = list(set(sep_assets) &  set(daily_assets))\n",
    "\n",
    "print(len(sep_assets), len(daily_assets), len(common_assets))"
   ]
  },
  {
   "cell_type": "markdown",
   "metadata": {},
   "source": [
    "Combining columns and screen within one pipeline"
   ]
  },
  {
   "cell_type": "code",
   "execution_count": 10,
   "metadata": {},
   "outputs": [],
   "source": [
    "from zipline.pipeline.filters import StaticAssets\n",
    "from zipline.pipeline import Pipeline\n",
    "\n",
    "pipe = Pipeline(\n",
    "    columns={\n",
    "        'close': USEquityPricing.close.latest,\n",
    "        'high': USEquityPricing.high.latest,  \n",
    "        'low': USEquityPricing.low.latest,   \n",
    "        'open': USEquityPricing.open.latest,  \n",
    "        'volume': USEquityPricing.volume.latest, \n",
    "        'ev': daily.Fundamentals.ev.latest,\n",
    "        'evebit': daily.Fundamentals.evebit.latest,  \n",
    "        'evebitda': daily.Fundamentals.evebitda.latest,   \n",
    "        'marketcap': daily.Fundamentals.marketcap.latest,  \n",
    "        'pb': daily.Fundamentals.pb.latest, \n",
    "        'pe': daily.Fundamentals.pe.latest,   \n",
    "        'ps': daily.Fundamentals.ps.latest, \n",
    "    },\n",
    "    screen=StaticAssets(common_assets)\n",
    ")"
   ]
  },
  {
   "cell_type": "markdown",
   "metadata": {},
   "source": [
    "## 3. Running Pipeline"
   ]
  },
  {
   "cell_type": "code",
   "execution_count": 11,
   "metadata": {},
   "outputs": [],
   "source": [
    "start_date = \"2010-12-31\"; end_date = \"2021-02-12\""
   ]
  },
  {
   "cell_type": "code",
   "execution_count": 12,
   "metadata": {},
   "outputs": [
    {
     "name": "stdout",
     "output_type": "stream",
     "text": [
      "CPU times: user 25.7 s, sys: 7.43 s, total: 33.2 s\n",
      "Wall time: 20.7 s\n"
     ]
    }
   ],
   "source": [
    "%%time\n",
    "pipe_df = engine.run_pipeline(\n",
    "    pipe,\n",
    "    pd.Timestamp(start_date, tz='utc'),\n",
    "    pd.Timestamp(end_date, tz='utc')\n",
    ")"
   ]
  },
  {
   "cell_type": "code",
   "execution_count": 13,
   "metadata": {},
   "outputs": [
    {
     "data": {
      "text/html": [
       "<div>\n",
       "<style scoped>\n",
       "    .dataframe tbody tr th:only-of-type {\n",
       "        vertical-align: middle;\n",
       "    }\n",
       "\n",
       "    .dataframe tbody tr th {\n",
       "        vertical-align: top;\n",
       "    }\n",
       "\n",
       "    .dataframe thead th {\n",
       "        text-align: right;\n",
       "    }\n",
       "</style>\n",
       "<table border=\"1\" class=\"dataframe\">\n",
       "  <thead>\n",
       "    <tr style=\"text-align: right;\">\n",
       "      <th></th>\n",
       "      <th></th>\n",
       "      <th>close</th>\n",
       "      <th>ev</th>\n",
       "      <th>evebit</th>\n",
       "      <th>evebitda</th>\n",
       "      <th>high</th>\n",
       "      <th>low</th>\n",
       "      <th>marketcap</th>\n",
       "      <th>open</th>\n",
       "      <th>pb</th>\n",
       "      <th>pe</th>\n",
       "      <th>ps</th>\n",
       "      <th>volume</th>\n",
       "    </tr>\n",
       "  </thead>\n",
       "  <tbody>\n",
       "    <tr>\n",
       "      <th rowspan=\"2\" valign=\"top\">2011-01-04 00:00:00+00:00</th>\n",
       "      <th>Equity(101501 [BBUCQ])</th>\n",
       "      <td>0.01</td>\n",
       "      <td>18.4</td>\n",
       "      <td>-9.4</td>\n",
       "      <td>-34.5</td>\n",
       "      <td>0.01</td>\n",
       "      <td>0.01</td>\n",
       "      <td>0.0</td>\n",
       "      <td>0.01</td>\n",
       "      <td>0.0</td>\n",
       "      <td>0.0</td>\n",
       "      <td>0.0</td>\n",
       "      <td>0.0</td>\n",
       "    </tr>\n",
       "    <tr>\n",
       "      <th>Equity(101512 [GOVB])</th>\n",
       "      <td>9.25</td>\n",
       "      <td>42.2</td>\n",
       "      <td>28.3</td>\n",
       "      <td>26.2</td>\n",
       "      <td>9.25</td>\n",
       "      <td>9.25</td>\n",
       "      <td>21.3</td>\n",
       "      <td>9.25</td>\n",
       "      <td>1.0</td>\n",
       "      <td>21.8</td>\n",
       "      <td>4.4</td>\n",
       "      <td>0.0</td>\n",
       "    </tr>\n",
       "  </tbody>\n",
       "</table>\n",
       "</div>"
      ],
      "text/plain": [
       "                                                  close    ev  evebit  \\\n",
       "2011-01-04 00:00:00+00:00 Equity(101501 [BBUCQ])   0.01  18.4    -9.4   \n",
       "                          Equity(101512 [GOVB])    9.25  42.2    28.3   \n",
       "\n",
       "                                                  evebitda  high   low  \\\n",
       "2011-01-04 00:00:00+00:00 Equity(101501 [BBUCQ])     -34.5  0.01  0.01   \n",
       "                          Equity(101512 [GOVB])       26.2  9.25  9.25   \n",
       "\n",
       "                                                  marketcap  open   pb    pe  \\\n",
       "2011-01-04 00:00:00+00:00 Equity(101501 [BBUCQ])        0.0  0.01  0.0   0.0   \n",
       "                          Equity(101512 [GOVB])        21.3  9.25  1.0  21.8   \n",
       "\n",
       "                                                   ps  volume  \n",
       "2011-01-04 00:00:00+00:00 Equity(101501 [BBUCQ])  0.0     0.0  \n",
       "                          Equity(101512 [GOVB])   4.4     0.0  "
      ]
     },
     "execution_count": 13,
     "metadata": {},
     "output_type": "execute_result"
    }
   ],
   "source": [
    "pipe_df.head(2)"
   ]
  },
  {
   "cell_type": "code",
   "execution_count": 14,
   "metadata": {},
   "outputs": [
    {
     "data": {
      "image/png": "[encoded data removed]",
      "text/plain": [
       "<Figure size 648x288 with 1 Axes>"
      ]
     },
     "metadata": {
      "needs_background": "light"
     },
     "output_type": "display_data"
    }
   ],
   "source": [
    "pipe_df.groupby(level=0).count().plot(figsize=(9, 4))\n",
    "plt.xlabel('Days')\n",
    "plt.ylabel('Number of Tickers')\n",
    "plt.show()"
   ]
  },
  {
   "cell_type": "code",
   "execution_count": 15,
   "metadata": {},
   "outputs": [
    {
     "data": {
      "text/plain": [
       "9149"
      ]
     },
     "execution_count": 15,
     "metadata": {},
     "output_type": "execute_result"
    }
   ],
   "source": [
    "len(pipe_df.index.get_level_values(1).unique())"
   ]
  },
  {
   "cell_type": "markdown",
   "metadata": {},
   "source": [
    "## 4. Loading Sharadar files for Testing Pipeline Data"
   ]
  },
  {
   "cell_type": "markdown",
   "metadata": {},
   "source": [
    "### 4.1 Tickers (with associated sids) "
   ]
  },
  {
   "cell_type": "code",
   "execution_count": 16,
   "metadata": {},
   "outputs": [],
   "source": [
    "sharadar_tickers_file = \"./SHARADAR_TICKERS.csv\""
   ]
  },
  {
   "cell_type": "code",
   "execution_count": 17,
   "metadata": {},
   "outputs": [
    {
     "name": "stdout",
     "output_type": "stream",
     "text": [
      "23794\n",
      "CPU times: user 200 ms, sys: 2.75 ms, total: 203 ms\n",
      "Wall time: 222 ms\n"
     ]
    }
   ],
   "source": [
    "%%time\n",
    "tickers_df = pd.read_csv(sharadar_tickers_file)\n",
    "all_tickers = tickers_df.ticker.unique()\n",
    "print(len(all_tickers))"
   ]
  },
  {
   "cell_type": "markdown",
   "metadata": {},
   "source": [
    "### 4.2 Sharadar Equity Prices (SEP) and Actions (including splits)"
   ]
  },
  {
   "cell_type": "markdown",
   "metadata": {},
   "source": [
    "SEP (Sharadar Equity Prices) "
   ]
  },
  {
   "cell_type": "code",
   "execution_count": 18,
   "metadata": {},
   "outputs": [],
   "source": [
    "sharadar_sep_file = \"./SHARADAR_SEP.csv\""
   ]
  },
  {
   "cell_type": "code",
   "execution_count": 19,
   "metadata": {},
   "outputs": [
    {
     "name": "stdout",
     "output_type": "stream",
     "text": [
      "11667\n",
      "CPU times: user 18.7 s, sys: 822 ms, total: 19.6 s\n",
      "Wall time: 20.3 s\n"
     ]
    }
   ],
   "source": [
    "%%time\n",
    "from fsharadar.sep.ingest import read_sep_file\n",
    "\n",
    "sep_df = read_sep_file(sharadar_sep_file, tickers_df)\n",
    "sep_tickers = sep_df.symbol.unique()\n",
    "print(len(sep_tickers))"
   ]
  },
  {
   "cell_type": "markdown",
   "metadata": {},
   "source": [
    "Actions"
   ]
  },
  {
   "cell_type": "code",
   "execution_count": 20,
   "metadata": {},
   "outputs": [],
   "source": [
    "actions_file = \"./SHARADAR_ACTIONS.csv\""
   ]
  },
  {
   "cell_type": "code",
   "execution_count": 21,
   "metadata": {},
   "outputs": [
    {
     "name": "stdout",
     "output_type": "stream",
     "text": [
      "CPU times: user 270 ms, sys: 0 ns, total: 270 ms\n",
      "Wall time: 288 ms\n"
     ]
    }
   ],
   "source": [
    "%%time\n",
    "\n",
    "from fsharadar.sep.ingest import read_actions_file\n",
    "\n",
    "# read actions_file (with splits)\n",
    "actions_df = read_actions_file(actions_file, tickers_df)"
   ]
  },
  {
   "cell_type": "markdown",
   "metadata": {},
   "source": [
    "### 4.3 Daily Metrics of Sharadar Fundamental Data"
   ]
  },
  {
   "cell_type": "code",
   "execution_count": 22,
   "metadata": {},
   "outputs": [],
   "source": [
    "sharadar_daily_file = \"./SHARADAR_DAILY.csv\""
   ]
  },
  {
   "cell_type": "code",
   "execution_count": 23,
   "metadata": {},
   "outputs": [
    {
     "name": "stdout",
     "output_type": "stream",
     "text": [
      "9266\n",
      "CPU times: user 14.4 s, sys: 918 ms, total: 15.3 s\n",
      "Wall time: 16.1 s\n"
     ]
    }
   ],
   "source": [
    "%%time\n",
    "from fsharadar.daily.ingest import read_daily_file\n",
    "\n",
    "daily_df = read_daily_file(sharadar_daily_file, tickers_df)\n",
    "daily_tickers = daily_df.symbol.unique()\n",
    "print(len(daily_tickers))"
   ]
  },
  {
   "cell_type": "markdown",
   "metadata": {},
   "source": [
    "## 5. Unadjusting SEP Data and  Merging Them with  Daily Metrics"
   ]
  },
  {
   "cell_type": "markdown",
   "metadata": {},
   "source": [
    "Unadjusting the Sharadar split-adjusted prices"
   ]
  },
  {
   "cell_type": "code",
   "execution_count": 24,
   "metadata": {},
   "outputs": [
    {
     "name": "stdout",
     "output_type": "stream",
     "text": [
      "11663\n",
      "CPU times: user 1min 34s, sys: 1.05 s, total: 1min 35s\n",
      "Wall time: 1min 35s\n"
     ]
    }
   ],
   "source": [
    "%%time\n",
    "\n",
    "from fsharadar.sep.ingest import unadjust_splits\n",
    "\n",
    "sep_df = unadjust_splits(sep_df, actions_df)\n",
    "sep_tickers = sep_df.symbol.unique()\n",
    "print(len(sep_tickers))"
   ]
  },
  {
   "cell_type": "markdown",
   "metadata": {},
   "source": [
    "Selecting common SEP and Daily tickers"
   ]
  },
  {
   "cell_type": "code",
   "execution_count": 25,
   "metadata": {},
   "outputs": [
    {
     "data": {
      "text/plain": [
       "9161"
      ]
     },
     "execution_count": 25,
     "metadata": {},
     "output_type": "execute_result"
    }
   ],
   "source": [
    "common_tickers = list(set(sep_tickers) &  set(daily_tickers))\n",
    "len(common_tickers)"
   ]
  },
  {
   "cell_type": "code",
   "execution_count": 26,
   "metadata": {},
   "outputs": [
    {
     "name": "stdout",
     "output_type": "stream",
     "text": [
      "CPU times: user 656 ms, sys: 116 ms, total: 772 ms\n",
      "Wall time: 753 ms\n"
     ]
    }
   ],
   "source": [
    "%%time\n",
    "sep_df = sep_df.query('symbol in @common_tickers')"
   ]
  },
  {
   "cell_type": "code",
   "execution_count": 27,
   "metadata": {},
   "outputs": [
    {
     "name": "stdout",
     "output_type": "stream",
     "text": [
      "CPU times: user 899 ms, sys: 121 ms, total: 1.02 s\n",
      "Wall time: 1 s\n"
     ]
    }
   ],
   "source": [
    "%%time\n",
    "daily_df = daily_df.query('symbol in @common_tickers')"
   ]
  },
  {
   "cell_type": "markdown",
   "metadata": {},
   "source": [
    "Merging SEP and Daily dataframes"
   ]
  },
  {
   "cell_type": "code",
   "execution_count": 28,
   "metadata": {},
   "outputs": [
    {
     "name": "stdout",
     "output_type": "stream",
     "text": [
      "9161\n"
     ]
    }
   ],
   "source": [
    "sep_df = sep_df.merge(daily_df, how='left', on=['symbol', 'date'], )\n",
    "combo_tickers = sep_df.symbol.unique()\n",
    "print(len(combo_tickers))"
   ]
  },
  {
   "cell_type": "markdown",
   "metadata": {},
   "source": [
    "Transforming into multi-index (pipeline-like) dataframe"
   ]
  },
  {
   "cell_type": "code",
   "execution_count": 29,
   "metadata": {},
   "outputs": [],
   "source": [
    "sep_df = sep_df.set_index(['date', 'symbol'])"
   ]
  },
  {
   "cell_type": "code",
   "execution_count": 30,
   "metadata": {},
   "outputs": [
    {
     "name": "stdout",
     "output_type": "stream",
     "text": [
      "CPU times: user 8.91 s, sys: 735 ms, total: 9.65 s\n",
      "Wall time: 9.64 s\n"
     ]
    }
   ],
   "source": [
    "%%time\n",
    "sep_df.sort_index(level=0, inplace=True)"
   ]
  },
  {
   "cell_type": "code",
   "execution_count": 31,
   "metadata": {},
   "outputs": [
    {
     "data": {
      "text/html": [
       "<div>\n",
       "<style scoped>\n",
       "    .dataframe tbody tr th:only-of-type {\n",
       "        vertical-align: middle;\n",
       "    }\n",
       "\n",
       "    .dataframe tbody tr th {\n",
       "        vertical-align: top;\n",
       "    }\n",
       "\n",
       "    .dataframe thead th {\n",
       "        text-align: right;\n",
       "    }\n",
       "</style>\n",
       "<table border=\"1\" class=\"dataframe\">\n",
       "  <thead>\n",
       "    <tr style=\"text-align: right;\">\n",
       "      <th></th>\n",
       "      <th></th>\n",
       "      <th>open</th>\n",
       "      <th>high</th>\n",
       "      <th>low</th>\n",
       "      <th>close</th>\n",
       "      <th>volume</th>\n",
       "      <th>dividends</th>\n",
       "      <th>ev</th>\n",
       "      <th>evebit</th>\n",
       "      <th>evebitda</th>\n",
       "      <th>marketcap</th>\n",
       "      <th>pb</th>\n",
       "      <th>pe</th>\n",
       "      <th>ps</th>\n",
       "    </tr>\n",
       "    <tr>\n",
       "      <th>date</th>\n",
       "      <th>symbol</th>\n",
       "      <th></th>\n",
       "      <th></th>\n",
       "      <th></th>\n",
       "      <th></th>\n",
       "      <th></th>\n",
       "      <th></th>\n",
       "      <th></th>\n",
       "      <th></th>\n",
       "      <th></th>\n",
       "      <th></th>\n",
       "      <th></th>\n",
       "      <th></th>\n",
       "      <th></th>\n",
       "    </tr>\n",
       "  </thead>\n",
       "  <tbody>\n",
       "    <tr>\n",
       "      <th rowspan=\"2\" valign=\"top\">2011-01-03</th>\n",
       "      <th>A</th>\n",
       "      <td>41.56</td>\n",
       "      <td>42.14</td>\n",
       "      <td>41.411</td>\n",
       "      <td>41.88</td>\n",
       "      <td>3572300.0</td>\n",
       "      <td>0.0</td>\n",
       "      <td>14043.7</td>\n",
       "      <td>17.8</td>\n",
       "      <td>14.2</td>\n",
       "      <td>14557.7</td>\n",
       "      <td>4.5</td>\n",
       "      <td>21.3</td>\n",
       "      <td>2.7</td>\n",
       "    </tr>\n",
       "    <tr>\n",
       "      <th>AACC</th>\n",
       "      <td>5.99</td>\n",
       "      <td>6.25</td>\n",
       "      <td>5.990</td>\n",
       "      <td>6.15</td>\n",
       "      <td>20400.0</td>\n",
       "      <td>0.0</td>\n",
       "      <td>358.2</td>\n",
       "      <td>-16.5</td>\n",
       "      <td>-20.9</td>\n",
       "      <td>188.3</td>\n",
       "      <td>1.4</td>\n",
       "      <td>-12.7</td>\n",
       "      <td>1.1</td>\n",
       "    </tr>\n",
       "  </tbody>\n",
       "</table>\n",
       "</div>"
      ],
      "text/plain": [
       "                    open   high     low  close     volume  dividends       ev  \\\n",
       "date       symbol                                                               \n",
       "2011-01-03 A       41.56  42.14  41.411  41.88  3572300.0        0.0  14043.7   \n",
       "           AACC     5.99   6.25   5.990   6.15    20400.0        0.0    358.2   \n",
       "\n",
       "                   evebit  evebitda  marketcap   pb    pe   ps  \n",
       "date       symbol                                               \n",
       "2011-01-03 A         17.8      14.2    14557.7  4.5  21.3  2.7  \n",
       "           AACC     -16.5     -20.9      188.3  1.4 -12.7  1.1  "
      ]
     },
     "execution_count": 31,
     "metadata": {},
     "output_type": "execute_result"
    }
   ],
   "source": [
    "sep_df.head(2)"
   ]
  },
  {
   "cell_type": "markdown",
   "metadata": {},
   "source": [
    "## 6. Testing pipeline data"
   ]
  },
  {
   "cell_type": "markdown",
   "metadata": {},
   "source": [
    "### 6.1 Explaining the difference set between the pipeline and file assets"
   ]
  },
  {
   "cell_type": "markdown",
   "metadata": {},
   "source": [
    "Identifying the difference set"
   ]
  },
  {
   "cell_type": "code",
   "execution_count": 33,
   "metadata": {},
   "outputs": [
    {
     "name": "stdout",
     "output_type": "stream",
     "text": [
      "12\n"
     ]
    }
   ],
   "source": [
    "pipe_assets = pipe_df.index.get_level_values(1).unique()\n",
    "pipe_tickers = [asset.symbol for asset in pipe_assets]\n",
    "raw_tickers = sep_df.index.get_level_values(1).unique()\n",
    "diff_tickers = set(raw_tickers) - set(pipe_tickers)\n",
    "print(len(diff_tickers))"
   ]
  },
  {
   "cell_type": "markdown",
   "metadata": {},
   "source": [
    "Showing that the pipeline excludes assets containing only one data point"
   ]
  },
  {
   "cell_type": "code",
   "execution_count": 34,
   "metadata": {},
   "outputs": [
    {
     "name": "stdout",
     "output_type": "stream",
     "text": [
      "0 LGVN size: 1\n",
      "1 TLIS size: 1\n",
      "2 CVII.U size: 1\n",
      "3 DBTX size: 1\n",
      "4 TSIBU size: 1\n",
      "5 SLAC.U size: 1\n",
      "6 CHAA.U size: 1\n",
      "7 CCVI.U size: 1\n",
      "8 RCLFU size: 1\n",
      "9 SCLEU size: 1\n",
      "10 TCACU size: 1\n",
      "11 NEXI size: 1\n"
     ]
    }
   ],
   "source": [
    "tag_name = sep.bundle_tags[0]\n",
    "\n",
    "raw_tag_df = sep_df[tag_name].unstack() \n",
    "raw_tag_df = raw_tag_df.loc[start_date: end_date]\n",
    "\n",
    "for i, ticker in enumerate(diff_tickers):\n",
    "    asset_raw_ts = raw_tag_df[ticker].dropna()\n",
    "    print(i, ticker, 'size:', asset_raw_ts.size)"
   ]
  },
  {
   "cell_type": "markdown",
   "metadata": {},
   "source": [
    "### 6.2 Comparing the lengths of the asset time series produced from pipeline and Sharadar files"
   ]
  },
  {
   "cell_type": "markdown",
   "metadata": {},
   "source": [
    "The following script shows that the lengths of the time series are the same with the exception of one asset (LOV), due to pipeline interpolation."
   ]
  },
  {
   "cell_type": "code",
   "execution_count": 35,
   "metadata": {},
   "outputs": [
    {
     "name": "stdout",
     "output_type": "stream",
     "text": [
      "5111 LOV interpolation: 822 > 818\n",
      "CPU times: user 6.64 s, sys: 882 ms, total: 7.52 s\n",
      "Wall time: 7.52 s\n"
     ]
    }
   ],
   "source": [
    "%%time\n",
    "\n",
    "tag_name = daily.bundle_tags[0]\n",
    "\n",
    "raw_tag_df = sep_df[tag_name].unstack() \n",
    "raw_tag_df = raw_tag_df.loc[start_date: end_date]\n",
    "\n",
    "pipe_tag_df = pipe_df[tag_name].unstack()\n",
    "pipe_tag_assets = pipe_tag_df.columns.values\n",
    "\n",
    "for i, asset in enumerate(pipe_tag_assets):\n",
    "        \n",
    "    ticker = asset.symbol\n",
    "    asset_raw_ts = raw_tag_df[ticker].dropna()\n",
    "    asset_pipe_ts = pipe_tag_df[asset].dropna() \n",
    "        \n",
    "    if asset_pipe_ts.size > asset_raw_ts.size:\n",
    "        print(i, ticker, 'interpolation:', asset_pipe_ts.size, '>', asset_raw_ts.size)\n",
    "        continue"
   ]
  },
  {
   "cell_type": "markdown",
   "metadata": {},
   "source": [
    "### 6.3 Checking for potential differences in asset time series"
   ]
  },
  {
   "cell_type": "markdown",
   "metadata": {},
   "source": [
    "The following code runs through all the SEP and Daily bundle characteristics and for each ticker checks for potential discrepencies between the time series from Zipline pipeline and Sharadar file. "
   ]
  },
  {
   "cell_type": "code",
   "execution_count": 36,
   "metadata": {},
   "outputs": [],
   "source": [
    "def check_assets(pipe_tag_df, raw_tag_df):\n",
    "    \n",
    "    pipe_tag_tickers = pipe_tag_df.columns.values\n",
    "\n",
    "    for i, asset in enumerate(pipe_tag_tickers):\n",
    "        \n",
    "        ticker = asset.symbol\n",
    "        asset_raw_ts = raw_tag_df[ticker].dropna()\n",
    "        \n",
    "        asset_pipe_ts = pipe_tag_df[asset].dropna() \n",
    "        \n",
    "        if asset_pipe_ts.size > asset_raw_ts.size:\n",
    "            continue\n",
    "\n",
    "        # PipelineReader shifted data 'that would\n",
    "        # be known at the **start** of each date'\n",
    "        \n",
    "        size = min(asset_raw_ts.size, asset_pipe_ts.size)\n",
    "        if size < asset_raw_ts.size - 1:\n",
    "            print(i, ticker, size, asset_raw_ts.size, asset_pipe_ts.size)\n",
    "            \n",
    "        std_diff = np.std(asset_raw_ts.values[:size] - asset_pipe_ts.values[:size])\n",
    "    \n",
    "        if np.abs(std_diff) > 1.e-4 :\n",
    "            print(i, ticker, std_diff)"
   ]
  },
  {
   "cell_type": "code",
   "execution_count": 39,
   "metadata": {},
   "outputs": [
    {
     "name": "stdout",
     "output_type": "stream",
     "text": [
      "0 close , processing time: 8.17440938949585\n",
      "1 high , processing time: 8.26007866859436\n",
      "2 low , processing time: 8.240079402923584\n",
      "3 open , processing time: 8.296991109848022\n",
      "4 volume , processing time: 8.326128721237183\n",
      "5 marketcap , processing time: 8.502599954605103\n",
      "6 ev , processing time: 8.751691818237305\n",
      "7 evebit , processing time: 8.53484296798706\n",
      "8 evebitda , processing time: 8.201447486877441\n",
      "9 pb , processing time: 8.19950819015503\n",
      "10 pe , processing time: 8.397982358932495\n",
      "11 ps , processing time: 8.299079418182373\n"
     ]
    }
   ],
   "source": [
    "for i, tag_name in enumerate(sep.bundle_tags + daily.bundle_tags):\n",
    "    start = time.time()\n",
    "    pipe_tag_df = pipe_df[tag_name].unstack()\n",
    "    raw_tag_df = sep_df[tag_name].unstack() \n",
    "    raw_tag_df = raw_tag_df.loc[start_date: end_date]\n",
    "    check_assets(pipe_tag_df, raw_tag_df)\n",
    "    end = time.time()\n",
    "    print(i, tag_name, ', processing time:', end - start)"
   ]
  },
  {
   "cell_type": "code",
   "execution_count": null,
   "metadata": {},
   "outputs": [],
   "source": []
  }
 ],
 "metadata": {
  "kernelspec": {
   "display_name": "Python 3",
   "language": "python",
   "name": "python3"
  },
  "language_info": {
   "codemirror_mode": {
    "name": "ipython",
    "version": 3
   },
   "file_extension": ".py",
   "mimetype": "text/x-python",
   "name": "python",
   "nbconvert_exporter": "python",
   "pygments_lexer": "ipython3",
   "version": "3.6.10"
  }
 },
 "nbformat": 4,
 "nbformat_minor": 4
}
