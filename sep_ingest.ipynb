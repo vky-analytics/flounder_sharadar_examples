{
 "cells": [
  {
   "cell_type": "markdown",
   "metadata": {},
   "source": [
    "# Ingesting Sharadar US Equity Prices (SEP) into Zipline"
   ]
  },
  {
   "cell_type": "markdown",
   "metadata": {},
   "source": [
    "The notebook shows the [fsharadar](https://flounderteam.github.io/fsharadar/) interface for ingesting [Sharadar Equity Prices](https://www.quandl.com/databases/SEP/data) into the [Zipline](https://github.com/quantopian/zipline) bcolz-based data layer. \n",
    "Similar to the Zipline style, the corresponding data bundle is registered while importing the fsharadar.sep module which implements this interface. Contrary to Zipline, the signature of the ingest method is bundle-specific\n",
    "and includes three arguments, names of the Sharadar tickers, sep and actions files. The former provides the Sharadar sids for consolidating multiple data bundles. "
   ]
  },
  {
   "cell_type": "code",
   "execution_count": 1,
   "metadata": {},
   "outputs": [],
   "source": [
    "from fsharadar import sep"
   ]
  },
  {
   "cell_type": "markdown",
   "metadata": {},
   "source": [
    "To facilitate this example, the Sharadar files are moved into the notebooks directory and renamed accordingly."
   ]
  },
  {
   "cell_type": "code",
   "execution_count": 2,
   "metadata": {},
   "outputs": [],
   "source": [
    "sharadar_dir = './'"
   ]
  },
  {
   "cell_type": "code",
   "execution_count": 3,
   "metadata": {},
   "outputs": [],
   "source": [
    "sharadar_tickers_file = sharadar_dir + \"SHARADAR_TICKERS.csv\"\n",
    "sharadar_sep_file = sharadar_dir + \"SHARADAR_SEP.csv\"\n",
    "sharadar_actions_file = sharadar_dir + \"SHARADAR_ACTIONS.csv\""
   ]
  },
  {
   "cell_type": "code",
   "execution_count": 4,
   "metadata": {},
   "outputs": [
    {
     "name": "stdout",
     "output_type": "stream",
     "text": [
      "\n",
      "Reading the tickers and data files ...\n",
      "Processing time: 44.1988 seconds\n",
      "\n",
      "Reading the actions file  ...\n",
      "Processing time: 0.6120 seconds\n",
      "\n",
      "Creating multi-index dataframes and sorting index ...\n",
      "Processing time: 35.2956 seconds\n",
      "\n",
      "Unadjusting splits ...\n"
     ]
    },
    {
     "name": "stderr",
     "output_type": "stream",
     "text": [
      "100%|██████████| 19442/19442 [04:17<00:00, 75.57it/s]\n"
     ]
    },
    {
     "name": "stdout",
     "output_type": "stream",
     "text": [
      "Processing time: 257.2737 seconds\n",
      "\n",
      "Concatenating unadjusted data ...\n",
      "Processing time: 69.0613 seconds\n",
      "\n",
      "Writing metadata ...\n",
      "Processing time: 25.6850 seconds\n",
      "\n",
      "Creating multi-index dataframe and sorting index ...\n",
      "Processing time: 29.0004 seconds\n",
      "\n",
      "Writing daily data ...\n"
     ]
    },
    {
     "name": "stderr",
     "output_type": "stream",
     "text": [
      "Merging daily equity files:: 100%|██████████| 19426/19426 [02:21<00:00, 137.51it/s]\n"
     ]
    },
    {
     "name": "stdout",
     "output_type": "stream",
     "text": [
      "Processing time: 151.6851 seconds\n",
      "\n",
      "Writing split and dividend adjustments ...\n"
     ]
    },
    {
     "name": "stderr",
     "output_type": "stream",
     "text": [
      "/home/malitsky/anaconda3/envs/fsharadar/lib/python3.6/site-packages/zipline/data/adjustments.py:403: FutureWarning: Conversion of the second argument of issubdtype from `float` to `np.floating` is deprecated. In future, it will be treated as `np.float64 == np.dtype(float).type`.\n",
      "  if not np.issubdtype(actual, expected):\n"
     ]
    },
    {
     "name": "stdout",
     "output_type": "stream",
     "text": [
      "Processing time: 4.2974 seconds\n",
      "\n",
      "Done.\n",
      "CPU times: user 9min 22s, sys: 1min 28s, total: 10min 50s\n",
      "Wall time: 10min 19s\n"
     ]
    }
   ],
   "source": [
    "%%time\n",
    "\n",
    "try:\n",
    "    sep.ingest(tickers_file=sharadar_tickers_file, \n",
    "               data_file=sharadar_sep_file, \n",
    "               actions_file=sharadar_actions_file,\n",
    "               show_progress=True)\n",
    "except Exception as e:\n",
    "    print('error:', e)"
   ]
  },
  {
   "cell_type": "code",
   "execution_count": null,
   "metadata": {},
   "outputs": [],
   "source": []
  }
 ],
 "metadata": {
  "kernelspec": {
   "display_name": "Python 3",
   "language": "python",
   "name": "python3"
  },
  "language_info": {
   "codemirror_mode": {
    "name": "ipython",
    "version": 3
   },
   "file_extension": ".py",
   "mimetype": "text/x-python",
   "name": "python",
   "nbconvert_exporter": "python",
   "pygments_lexer": "ipython3",
   "version": "3.6.13"
  }
 },
 "nbformat": 4,
 "nbformat_minor": 4
}
