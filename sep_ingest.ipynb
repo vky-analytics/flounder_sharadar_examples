{
 "cells": [
  {
   "cell_type": "markdown",
   "metadata": {},
   "source": [
    "# Ingesting Sharadar US Equity Prices into Zipline"
   ]
  },
  {
   "cell_type": "markdown",
   "metadata": {},
   "source": [
    "The notebook shows the interface for ingesting [Sharadar Equity Prices](https://www.quandl.com/databases/SEP/data) into the [Zipline](https://github.com/quantopian/zipline) bcolz-based data layer. \n",
    "Similar to the Zipline style, the corresponding data bundle is registered while importing the fsharadar.sep module which implements this interface. Contrary to Zipline, the signature of the ingest method is bundle-specific\n",
    "and includes three arguments, names of the Sharadar tickers, sep and actions files. The former provides the Sharadar sids for consolidating multiple data bundles. "
   ]
  },
  {
   "cell_type": "code",
   "execution_count": 1,
   "metadata": {},
   "outputs": [],
   "source": [
    "from fsharadar import sep"
   ]
  },
  {
   "cell_type": "markdown",
   "metadata": {},
   "source": [
    "To facilitate this example, the Sharadar files are moved into the notebooks directory and renamed accordingly."
   ]
  },
  {
   "cell_type": "code",
   "execution_count": 2,
   "metadata": {},
   "outputs": [],
   "source": [
    "sharadar_tickers_file = \"./SHARADAR_TICKERS.csv\"\n",
    "sharadar_sep_file = \"./SHARADAR_SEP.csv\"\n",
    "sharadar_actions_file = \"./SHARADAR_ACTIONS.csv\""
   ]
  },
  {
   "cell_type": "code",
   "execution_count": 3,
   "metadata": {},
   "outputs": [
    {
     "name": "stdout",
     "output_type": "stream",
     "text": [
      "CPU times: user 24min 45s, sys: 22.1 s, total: 25min 7s\n",
      "Wall time: 24min 38s\n"
     ]
    }
   ],
   "source": [
    "%%time\n",
    "\n",
    "import warnings\n",
    "warnings.filterwarnings('ignore')\n",
    "\n",
    "try:\n",
    "    sep.ingest(tickers_file=sharadar_tickers_file, \n",
    "               data_file=sharadar_sep_file, \n",
    "               actions_file=sharadar_actions_file)\n",
    "except Exception as e:\n",
    "    print('error:', e)"
   ]
  },
  {
   "cell_type": "code",
   "execution_count": null,
   "metadata": {},
   "outputs": [],
   "source": []
  }
 ],
 "metadata": {
  "kernelspec": {
   "display_name": "Python 3",
   "language": "python",
   "name": "python3"
  },
  "language_info": {
   "codemirror_mode": {
    "name": "ipython",
    "version": 3
   },
   "file_extension": ".py",
   "mimetype": "text/x-python",
   "name": "python",
   "nbconvert_exporter": "python",
   "pygments_lexer": "ipython3",
   "version": "3.6.10"
  }
 },
 "nbformat": 4,
 "nbformat_minor": 4
}
