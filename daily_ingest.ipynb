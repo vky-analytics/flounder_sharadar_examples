{
 "cells": [
  {
   "cell_type": "markdown",
   "metadata": {},
   "source": [
    "# Ingesting Daily Metrics from Sharadar US Fundamentals into Zipline"
   ]
  },
  {
   "cell_type": "markdown",
   "metadata": {},
   "source": [
    "The notebook shows the [fsharadar](https://flounderteam.github.io/fsharadar/) interface for ingesting [Sharadar Daily Metrics](https://www.quandl.com/databases/SF1/data) into the [Zipline](https://github.com/quantopian/zipline) bcolz-based data layer. \n",
    "Similar to the Zipline style, the corresponding data bundle is registered while importing the fsharadar.daily module which implements this interface. Contrary to Zipline, the signature of the ingest method is bundle-specific\n",
    "and includes two arguments, names of the Sharadar tickers and daily files. The former provides the Sharadar sids for consolidating multiple data bundles. "
   ]
  },
  {
   "cell_type": "code",
   "execution_count": 1,
   "metadata": {},
   "outputs": [],
   "source": [
    "from fsharadar import daily"
   ]
  },
  {
   "cell_type": "markdown",
   "metadata": {},
   "source": [
    "To facilitate this example, the Sharadar files are moved into the notebooks directory and renamed accordingly."
   ]
  },
  {
   "cell_type": "code",
   "execution_count": 2,
   "metadata": {},
   "outputs": [],
   "source": [
    "sharadar_dir = './'"
   ]
  },
  {
   "cell_type": "code",
   "execution_count": 3,
   "metadata": {},
   "outputs": [],
   "source": [
    "sharadar_tickers_file = sharadar_dir + \"SHARADAR_TICKERS.csv\"\n",
    "sharadar_daily_file = sharadar_dir + \"SHARADAR_DAILY.csv\""
   ]
  },
  {
   "cell_type": "code",
   "execution_count": 4,
   "metadata": {},
   "outputs": [
    {
     "name": "stdout",
     "output_type": "stream",
     "text": [
      "\n",
      "Reading the tickers and data files ...\n",
      "Processing time: 42.7452 seconds\n",
      "\n",
      "Writing metadata ...\n",
      "Processing time: 22.4194 seconds\n",
      "\n",
      "Creating multi-index dataframe and sorting index ...\n",
      "Processing time: 36.4903 seconds\n",
      "\n",
      "Writing daily data ...\n"
     ]
    },
    {
     "name": "stderr",
     "output_type": "stream",
     "text": [
      "Merging daily equity files:: 100%|██████████| 15712/15712 [01:48<00:00, 145.42it/s]\n"
     ]
    },
    {
     "name": "stdout",
     "output_type": "stream",
     "text": [
      "Processing time: 122.4894 seconds\n",
      "\n",
      "Done.\n",
      "CPU times: user 3min 45s, sys: 29.8 s, total: 4min 15s\n",
      "Wall time: 3min 46s\n"
     ]
    }
   ],
   "source": [
    "%%time\n",
    "\n",
    "try:\n",
    "    daily.ingest(tickers_file=sharadar_tickers_file, \n",
    "                 data_file=sharadar_daily_file, \n",
    "                 show_progress=True)\n",
    "except Exception as e:\n",
    "    print(e)"
   ]
  },
  {
   "cell_type": "code",
   "execution_count": null,
   "metadata": {},
   "outputs": [],
   "source": []
  }
 ],
 "metadata": {
  "kernelspec": {
   "display_name": "Python 3",
   "language": "python",
   "name": "python3"
  },
  "language_info": {
   "codemirror_mode": {
    "name": "ipython",
    "version": 3
   },
   "file_extension": ".py",
   "mimetype": "text/x-python",
   "name": "python",
   "nbconvert_exporter": "python",
   "pygments_lexer": "ipython3",
   "version": "3.6.13"
  }
 },
 "nbformat": 4,
 "nbformat_minor": 4
}
