{
 "cells": [
  {
   "cell_type": "markdown",
   "metadata": {},
   "source": [
    "# Ingesting Daily Metrics from Sharadar US Fundamentals into Zipline"
   ]
  },
  {
   "cell_type": "markdown",
   "metadata": {},
   "source": [
    "The notebook shows the interface for ingesting [Sharadar Daily Metrics](https://www.quandl.com/databases/SF1/data) into the [Zipline](https://github.com/quantopian/zipline) bcolz-based data layer. \n",
    "Similar to the Zipline style, the corresponding data bundle is registered while importing the fsharadar.daily module which implements this interface. Contrary to Zipline, the signature of the ingest method is bundle-specific\n",
    "and includes two arguments, names of the Sharadar tickers and daily files. The former provides the Sharadar sids for consolidating multiple data bundles. "
   ]
  },
  {
   "cell_type": "code",
   "execution_count": 1,
   "metadata": {},
   "outputs": [],
   "source": [
    "from fsharadar import daily"
   ]
  },
  {
   "cell_type": "markdown",
   "metadata": {},
   "source": [
    "To facilitate this example, the Sharadar files are moved into the notebooks directory and renamed accordingly."
   ]
  },
  {
   "cell_type": "code",
   "execution_count": 2,
   "metadata": {},
   "outputs": [],
   "source": [
    "sharadar_tickers_file = \"./SHARADAR_TICKERS.csv\"\n",
    "sharadar_daily_file = \"./SHARADAR_DAILY.csv\""
   ]
  },
  {
   "cell_type": "code",
   "execution_count": 3,
   "metadata": {},
   "outputs": [
    {
     "name": "stdout",
     "output_type": "stream",
     "text": [
      "CPU times: user 19min 41s, sys: 30.2 s, total: 20min 11s\n",
      "Wall time: 19min 47s\n"
     ]
    }
   ],
   "source": [
    "%%time\n",
    "\n",
    "import warnings\n",
    "warnings.filterwarnings('ignore')\n",
    "\n",
    "try:\n",
    "    daily.ingest(tickers_file=sharadar_tickers_file, data_file=sharadar_daily_file)\n",
    "except Exception as e:\n",
    "    print(e)"
   ]
  },
  {
   "cell_type": "code",
   "execution_count": null,
   "metadata": {},
   "outputs": [],
   "source": []
  }
 ],
 "metadata": {
  "kernelspec": {
   "display_name": "Python 3",
   "language": "python",
   "name": "python3"
  },
  "language_info": {
   "codemirror_mode": {
    "name": "ipython",
    "version": 3
   },
   "file_extension": ".py",
   "mimetype": "text/x-python",
   "name": "python",
   "nbconvert_exporter": "python",
   "pygments_lexer": "ipython3",
   "version": "3.6.12"
  }
 },
 "nbformat": 4,
 "nbformat_minor": 4
}
