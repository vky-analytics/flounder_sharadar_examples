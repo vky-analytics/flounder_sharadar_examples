{
 "cells": [
  {
   "cell_type": "markdown",
   "metadata": {},
   "source": [
    "# Loading Sharadar Daily Bundle for Running the Zipline Pipeline"
   ]
  },
  {
   "cell_type": "markdown",
   "metadata": {},
   "source": [
    "The notebook demonstrates and tests the [fsharadar](https://flounderteam.github.io/fsharadar/) interface for running the [Zipline-based research platform](https://flounderteam.github.io/) with the Sharadar Daily bundle (ingested with the daily_ingest notebook within this repository). The corresponding example consists of five steps: building the pipeline engine, building pipeline, running it, reading the Sharadar files for comparison with pipeline data, and testing pipeline data."
   ]
  },
  {
   "cell_type": "code",
   "execution_count": 1,
   "metadata": {},
   "outputs": [],
   "source": [
    "import os\n",
    "import time\n",
    "import numpy as np\n",
    "import pandas as pd\n",
    "import matplotlib.pyplot as plt\n",
    "%matplotlib inline"
   ]
  },
  {
   "cell_type": "markdown",
   "metadata": {},
   "source": [
    "Importing the fsharadar.daily module from the Flounder extension"
   ]
  },
  {
   "cell_type": "code",
   "execution_count": 2,
   "metadata": {},
   "outputs": [],
   "source": [
    "import fsharadar\n",
    "from fsharadar import daily"
   ]
  },
  {
   "cell_type": "markdown",
   "metadata": {},
   "source": [
    "## 1. Connecting the Daily Data Bundle with  Pipeline Engine"
   ]
  },
  {
   "cell_type": "markdown",
   "metadata": {},
   "source": [
    "Loading Sharadar daily bundle"
   ]
  },
  {
   "cell_type": "code",
   "execution_count": 3,
   "metadata": {},
   "outputs": [],
   "source": [
    "daily_bundle_data = daily.load()"
   ]
  },
  {
   "cell_type": "markdown",
   "metadata": {},
   "source": [
    "Defining bundle-specific pipeline loader"
   ]
  },
  {
   "cell_type": "code",
   "execution_count": 4,
   "metadata": {},
   "outputs": [],
   "source": [
    "pipe_loader = fsharadar.get_pipeline_loader(daily_bundle_data)\n",
    "\n",
    "def get_pipe_loader(column):\n",
    "    if column in daily.Fundamentals.columns:\n",
    "        return pipe_loader\n",
    "    raise ValueError(\"No PipelineLoader registered for column %s.\" % column)"
   ]
  },
  {
   "cell_type": "markdown",
   "metadata": {},
   "source": [
    "Defining the Zipline pipeline engine"
   ]
  },
  {
   "cell_type": "code",
   "execution_count": 5,
   "metadata": {},
   "outputs": [],
   "source": [
    "from zipline.pipeline.engine import SimplePipelineEngine\n",
    "\n",
    "engine = SimplePipelineEngine(\n",
    "    get_loader=get_pipe_loader,\n",
    "    asset_finder=daily_bundle_data.asset_finder,\n",
    ")"
   ]
  },
  {
   "cell_type": "markdown",
   "metadata": {},
   "source": [
    "## 2. Building and Running Pipeline"
   ]
  },
  {
   "cell_type": "markdown",
   "metadata": {},
   "source": [
    "Reviewing characteristics of the bundle-specific FundamentalsDataSet"
   ]
  },
  {
   "cell_type": "code",
   "execution_count": 6,
   "metadata": {},
   "outputs": [
    {
     "data": {
      "text/plain": [
       "frozenset({FundamentalsDataSet<US>.currency::object,\n",
       "           FundamentalsDataSet<US>.ev::float64,\n",
       "           FundamentalsDataSet<US>.evebit::float64,\n",
       "           FundamentalsDataSet<US>.evebitda::float64,\n",
       "           FundamentalsDataSet<US>.marketcap::float64,\n",
       "           FundamentalsDataSet<US>.pb::float64,\n",
       "           FundamentalsDataSet<US>.pe::float64,\n",
       "           FundamentalsDataSet<US>.ps::float64})"
      ]
     },
     "execution_count": 6,
     "metadata": {},
     "output_type": "execute_result"
    }
   ],
   "source": [
    "daily.Fundamentals.columns"
   ]
  },
  {
   "cell_type": "markdown",
   "metadata": {},
   "source": [
    "Defining the pipeline"
   ]
  },
  {
   "cell_type": "code",
   "execution_count": 7,
   "metadata": {},
   "outputs": [],
   "source": [
    "from zipline.pipeline import Pipeline\n",
    "\n",
    "pipe = Pipeline(\n",
    "    columns={\n",
    "        'ev': daily.Fundamentals.ev.latest,\n",
    "        'evebit': daily.Fundamentals.evebit.latest,  \n",
    "        'evebitda': daily.Fundamentals.evebitda.latest,   \n",
    "        'marketcap': daily.Fundamentals.marketcap.latest,  \n",
    "        'pb': daily.Fundamentals.pb.latest, \n",
    "        'pe': daily.Fundamentals.pe.latest,   \n",
    "        'ps': daily.Fundamentals.ps.latest,           \n",
    "    },\n",
    ")"
   ]
  },
  {
   "cell_type": "markdown",
   "metadata": {},
   "source": [
    "Running the pipeline"
   ]
  },
  {
   "cell_type": "code",
   "execution_count": 8,
   "metadata": {},
   "outputs": [],
   "source": [
    "start_date = \"2010-12-31\"; end_date = \"2021-07-30\""
   ]
  },
  {
   "cell_type": "code",
   "execution_count": 9,
   "metadata": {},
   "outputs": [
    {
     "name": "stdout",
     "output_type": "stream",
     "text": [
      "CPU times: user 13.8 s, sys: 3.28 s, total: 17.1 s\n",
      "Wall time: 10.9 s\n"
     ]
    }
   ],
   "source": [
    "%%time\n",
    "pipe_df = engine.run_pipeline(\n",
    "    pipe,\n",
    "    pd.Timestamp(start_date, tz='utc'),\n",
    "    pd.Timestamp(end_date, tz='utc')\n",
    ")"
   ]
  },
  {
   "cell_type": "code",
   "execution_count": 10,
   "metadata": {},
   "outputs": [
    {
     "data": {
      "text/html": [
       "<div>\n",
       "<style scoped>\n",
       "    .dataframe tbody tr th:only-of-type {\n",
       "        vertical-align: middle;\n",
       "    }\n",
       "\n",
       "    .dataframe tbody tr th {\n",
       "        vertical-align: top;\n",
       "    }\n",
       "\n",
       "    .dataframe thead th {\n",
       "        text-align: right;\n",
       "    }\n",
       "</style>\n",
       "<table border=\"1\" class=\"dataframe\">\n",
       "  <thead>\n",
       "    <tr style=\"text-align: right;\">\n",
       "      <th></th>\n",
       "      <th></th>\n",
       "      <th>ev</th>\n",
       "      <th>evebit</th>\n",
       "      <th>evebitda</th>\n",
       "      <th>marketcap</th>\n",
       "      <th>pb</th>\n",
       "      <th>pe</th>\n",
       "      <th>ps</th>\n",
       "    </tr>\n",
       "  </thead>\n",
       "  <tbody>\n",
       "    <tr>\n",
       "      <th rowspan=\"2\" valign=\"top\">2010-12-31 00:00:00+00:00</th>\n",
       "      <th>Equity(101286 [TUXS])</th>\n",
       "      <td>-3.3</td>\n",
       "      <td>6.3</td>\n",
       "      <td>6.6</td>\n",
       "      <td>1.1</td>\n",
       "      <td>0.1</td>\n",
       "      <td>-2.0</td>\n",
       "      <td>29.7</td>\n",
       "    </tr>\n",
       "    <tr>\n",
       "      <th>Equity(101501 [BBUCQ])</th>\n",
       "      <td>18.4</td>\n",
       "      <td>-9.4</td>\n",
       "      <td>-34.5</td>\n",
       "      <td>0.0</td>\n",
       "      <td>0.0</td>\n",
       "      <td>0.0</td>\n",
       "      <td>0.0</td>\n",
       "    </tr>\n",
       "  </tbody>\n",
       "</table>\n",
       "</div>"
      ],
      "text/plain": [
       "                                                    ev  evebit  evebitda  \\\n",
       "2010-12-31 00:00:00+00:00 Equity(101286 [TUXS])   -3.3     6.3       6.6   \n",
       "                          Equity(101501 [BBUCQ])  18.4    -9.4     -34.5   \n",
       "\n",
       "                                                  marketcap   pb   pe    ps  \n",
       "2010-12-31 00:00:00+00:00 Equity(101286 [TUXS])         1.1  0.1 -2.0  29.7  \n",
       "                          Equity(101501 [BBUCQ])        0.0  0.0  0.0   0.0  "
      ]
     },
     "execution_count": 10,
     "metadata": {},
     "output_type": "execute_result"
    }
   ],
   "source": [
    "pipe_df.head(2)"
   ]
  },
  {
   "cell_type": "code",
   "execution_count": 11,
   "metadata": {},
   "outputs": [
    {
     "data": {
      "image/png": "[encoded data removed]",
      "text/plain": [
       "<Figure size 648x288 with 1 Axes>"
      ]
     },
     "metadata": {
      "needs_background": "light"
     },
     "output_type": "display_data"
    }
   ],
   "source": [
    "pipe_df.groupby(level=0).count().plot(figsize=(9, 4))\n",
    "plt.xlabel('Days')\n",
    "plt.ylabel('Number of Tickers')\n",
    "plt.show()"
   ]
  },
  {
   "cell_type": "code",
   "execution_count": 12,
   "metadata": {},
   "outputs": [
    {
     "name": "stdout",
     "output_type": "stream",
     "text": [
      "9692\n"
     ]
    }
   ],
   "source": [
    "print(len(pipe_df.index.get_level_values(1).unique()))"
   ]
  },
  {
   "cell_type": "markdown",
   "metadata": {},
   "source": [
    "## 3. Loading Sharadar files for testing pipeline data"
   ]
  },
  {
   "cell_type": "code",
   "execution_count": 13,
   "metadata": {},
   "outputs": [],
   "source": [
    "sharadar_dir = './'"
   ]
  },
  {
   "cell_type": "markdown",
   "metadata": {},
   "source": [
    "Tickers"
   ]
  },
  {
   "cell_type": "code",
   "execution_count": 14,
   "metadata": {},
   "outputs": [],
   "source": [
    "sharadar_tickers_file = sharadar_dir + \"SHARADAR_TICKERS.csv\""
   ]
  },
  {
   "cell_type": "code",
   "execution_count": 15,
   "metadata": {},
   "outputs": [
    {
     "name": "stdout",
     "output_type": "stream",
     "text": [
      "24992\n"
     ]
    }
   ],
   "source": [
    "# read tickers_file (with sids)\n",
    "tickers_df = pd.read_csv(sharadar_tickers_file)\n",
    "print(len(tickers_df.ticker.unique()))"
   ]
  },
  {
   "cell_type": "markdown",
   "metadata": {},
   "source": [
    "Daily fundamentals"
   ]
  },
  {
   "cell_type": "code",
   "execution_count": 16,
   "metadata": {},
   "outputs": [],
   "source": [
    "sharadar_daily_file = sharadar_dir + \"SHARADAR_DAILY.csv\""
   ]
  },
  {
   "cell_type": "code",
   "execution_count": 17,
   "metadata": {},
   "outputs": [
    {
     "name": "stdout",
     "output_type": "stream",
     "text": [
      "15712\n",
      "CPU times: user 37.2 s, sys: 3.95 s, total: 41.2 s\n",
      "Wall time: 41.9 s\n"
     ]
    }
   ],
   "source": [
    "%%time\n",
    "from fsharadar.read import read_data_file\n",
    "\n",
    "daily_df = read_data_file(sharadar_daily_file, tickers_df, fsharadar.daily.bundle_tags)\n",
    "print(len(daily_df.symbol.unique()))"
   ]
  },
  {
   "cell_type": "markdown",
   "metadata": {},
   "source": [
    "## 4. Testing pipeline data"
   ]
  },
  {
   "cell_type": "markdown",
   "metadata": {},
   "source": [
    "Selecting dates between start_date and end_date and shifting the start_date (in Zipline, PipelineReader shifted data 'that would be known at the start of each date')"
   ]
  },
  {
   "cell_type": "code",
   "execution_count": 18,
   "metadata": {},
   "outputs": [
    {
     "name": "stdout",
     "output_type": "stream",
     "text": [
      "2010-12-31 2010-12-30 00:00:00\n"
     ]
    }
   ],
   "source": [
    "from zipline.pipeline.domain import US_EQUITIES\n",
    "\n",
    "sessions = US_EQUITIES.all_sessions()\n",
    "sessions = sessions.tz_localize(None)\n",
    "\n",
    "start_index = sessions.get_loc(start_date)\n",
    "end_index = sessions.get_loc(end_date)\n",
    "\n",
    "shifted_dates = sessions[start_index-1: end_index+1]\n",
    "empty_shifted_df = pd.DataFrame(index=shifted_dates)\n",
    "\n",
    "print(start_date, shifted_dates[0])"
   ]
  },
  {
   "cell_type": "markdown",
   "metadata": {},
   "source": [
    "Swaping the date and symbol levels in the multi-index dataframes"
   ]
  },
  {
   "cell_type": "code",
   "execution_count": 19,
   "metadata": {},
   "outputs": [
    {
     "name": "stdout",
     "output_type": "stream",
     "text": [
      "CPU times: user 19 s, sys: 4.79 s, total: 23.8 s\n",
      "Wall time: 23.8 s\n"
     ]
    }
   ],
   "source": [
    "%%time\n",
    "\n",
    "pipe_df.index = pipe_df.index.swaplevel(0,1)\n",
    "pipe_df = pipe_df.sort_index(level=0)"
   ]
  },
  {
   "cell_type": "code",
   "execution_count": 20,
   "metadata": {},
   "outputs": [
    {
     "name": "stdout",
     "output_type": "stream",
     "text": [
      "CPU times: user 25.3 s, sys: 1min 11s, total: 1min 37s\n",
      "Wall time: 1min 37s\n"
     ]
    }
   ],
   "source": [
    "%%time\n",
    "\n",
    "daily_df = daily_df.set_index(['symbol', 'date'])\n",
    "daily_df = daily_df.sort_index(level=0)"
   ]
  },
  {
   "cell_type": "markdown",
   "metadata": {},
   "source": [
    "The following code runs through all the assets and the bundle characteristics (e.g., marketcap) and checks for potential discrepencies between the time series from Zipline pipeline and Sharadar file. "
   ]
  },
  {
   "cell_type": "code",
   "execution_count": 21,
   "metadata": {},
   "outputs": [],
   "source": [
    "def check_asset(asset, daily_df, pipe_df):\n",
    "    \n",
    "    ticker = asset.symbol\n",
    "    \n",
    "    asset_daily_df = daily_df.xs(ticker)\n",
    "    \n",
    "    asset_shifted_df = empty_shifted_df.join(asset_daily_df)\n",
    "    asset_shifted_df = asset_shifted_df.dropna(how='all')[:-1]  # shifting the end_date\n",
    "    \n",
    "    asset_pipe_df = pipe_df.xs(asset).dropna(how='all')\n",
    "    \n",
    "    std_diff = np.std(asset_shifted_df.values - asset_pipe_df.values)\n",
    "    \n",
    "    if std_diff > 1.e-9 : print(ticker, tag, std_diff)"
   ]
  },
  {
   "cell_type": "code",
   "execution_count": 22,
   "metadata": {},
   "outputs": [
    {
     "name": "stderr",
     "output_type": "stream",
     "text": [
      "100%|██████████| 9692/9692 [00:21<00:00, 447.35it/s]\n"
     ]
    }
   ],
   "source": [
    "from tqdm import tqdm\n",
    "\n",
    "assets = pipe_df.index.get_level_values(0).unique()\n",
    "\n",
    "for asset in tqdm(assets):\n",
    "    check_asset(asset, daily_df, pipe_df)    "
   ]
  },
  {
   "cell_type": "code",
   "execution_count": null,
   "metadata": {},
   "outputs": [],
   "source": []
  }
 ],
 "metadata": {
  "kernelspec": {
   "display_name": "Python 3",
   "language": "python",
   "name": "python3"
  },
  "language_info": {
   "codemirror_mode": {
    "name": "ipython",
    "version": 3
   },
   "file_extension": ".py",
   "mimetype": "text/x-python",
   "name": "python",
   "nbconvert_exporter": "python",
   "pygments_lexer": "ipython3",
   "version": "3.6.13"
  }
 },
 "nbformat": 4,
 "nbformat_minor": 4
}
