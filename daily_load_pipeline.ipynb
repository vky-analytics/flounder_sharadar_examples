{
 "cells": [
  {
   "cell_type": "markdown",
   "metadata": {},
   "source": [
    "# Loading Sharadar Daily Bundle for Running the Zipline Pipeline"
   ]
  },
  {
   "cell_type": "markdown",
   "metadata": {},
   "source": [
    "The notebook demonstrates and tests the interface for running the Zipline open-source research platform with the Sharadar Daily bundle (ingested with the daily_ingest notebook within this repository). The corresponding example consists of five steps: building the pipeline engine, building pipeline, running it, reading the Sharadar files for comparison with pipeline data, and testing pipeline data."
   ]
  },
  {
   "cell_type": "code",
   "execution_count": 1,
   "metadata": {},
   "outputs": [],
   "source": [
    "import os\n",
    "import time\n",
    "import numpy as np\n",
    "import pandas as pd\n",
    "import matplotlib.pyplot as plt\n",
    "%matplotlib inline"
   ]
  },
  {
   "cell_type": "markdown",
   "metadata": {},
   "source": [
    "Importing the fsharadar.daily module from the Flounder extension"
   ]
  },
  {
   "cell_type": "code",
   "execution_count": 2,
   "metadata": {},
   "outputs": [],
   "source": [
    "from fsharadar import daily"
   ]
  },
  {
   "cell_type": "markdown",
   "metadata": {},
   "source": [
    "## 1. Building Pipeline Engine"
   ]
  },
  {
   "cell_type": "markdown",
   "metadata": {},
   "source": [
    "Loading Sharadar daily bundle"
   ]
  },
  {
   "cell_type": "code",
   "execution_count": 3,
   "metadata": {},
   "outputs": [],
   "source": [
    "daily_bundle_data = daily.load()"
   ]
  },
  {
   "cell_type": "markdown",
   "metadata": {},
   "source": [
    "Defining bundle-specific pipeline loader"
   ]
  },
  {
   "cell_type": "code",
   "execution_count": 4,
   "metadata": {},
   "outputs": [],
   "source": [
    "pipe_loader = daily.PipelineLoader(daily_bundle_data.equity_daily_bar_reader)\n",
    "\n",
    "def get_pipe_loader(column):\n",
    "    if column in daily.Fundamentals.columns:\n",
    "        return pipe_loader\n",
    "    raise ValueError(\"No PipelineLoader registered for column %s.\" % column)"
   ]
  },
  {
   "cell_type": "markdown",
   "metadata": {},
   "source": [
    "Defining the Zipline pipeline engine"
   ]
  },
  {
   "cell_type": "code",
   "execution_count": 5,
   "metadata": {},
   "outputs": [],
   "source": [
    "from zipline.pipeline.engine import SimplePipelineEngine\n",
    "\n",
    "engine = SimplePipelineEngine(\n",
    "    get_loader=get_pipe_loader,\n",
    "    asset_finder=daily_bundle_data.asset_finder,\n",
    ")"
   ]
  },
  {
   "cell_type": "markdown",
   "metadata": {},
   "source": [
    "## 2. Building Pipeline"
   ]
  },
  {
   "cell_type": "markdown",
   "metadata": {},
   "source": [
    "Reviewing characteristics of the bundle-specific FundamentalsDataSet"
   ]
  },
  {
   "cell_type": "code",
   "execution_count": 6,
   "metadata": {},
   "outputs": [
    {
     "data": {
      "text/plain": [
       "frozenset({FundamentalsDataSet<US>.currency::object,\n",
       "           FundamentalsDataSet<US>.ev::float64,\n",
       "           FundamentalsDataSet<US>.evebit::float64,\n",
       "           FundamentalsDataSet<US>.evebitda::float64,\n",
       "           FundamentalsDataSet<US>.marketcap::float64,\n",
       "           FundamentalsDataSet<US>.pb::float64,\n",
       "           FundamentalsDataSet<US>.pe::float64,\n",
       "           FundamentalsDataSet<US>.ps::float64})"
      ]
     },
     "execution_count": 6,
     "metadata": {},
     "output_type": "execute_result"
    }
   ],
   "source": [
    "daily.Fundamentals.columns"
   ]
  },
  {
   "cell_type": "code",
   "execution_count": 7,
   "metadata": {},
   "outputs": [],
   "source": [
    "from zipline.pipeline import Pipeline\n",
    "\n",
    "pipe = Pipeline(\n",
    "    columns={\n",
    "        'ev': daily.Fundamentals.ev.latest,\n",
    "        'evebit': daily.Fundamentals.evebit.latest,  \n",
    "        'evebitda': daily.Fundamentals.evebitda.latest,   \n",
    "        'marketcap': daily.Fundamentals.marketcap.latest,  \n",
    "        'pb': daily.Fundamentals.pb.latest, \n",
    "        'pe': daily.Fundamentals.pe.latest,   \n",
    "        'ps': daily.Fundamentals.ps.latest,           \n",
    "    },\n",
    ")"
   ]
  },
  {
   "cell_type": "markdown",
   "metadata": {},
   "source": [
    "## 3. Running Pipeline"
   ]
  },
  {
   "cell_type": "code",
   "execution_count": 8,
   "metadata": {},
   "outputs": [],
   "source": [
    "start_date = \"2010-12-31\"; end_date = \"2021-02-23\""
   ]
  },
  {
   "cell_type": "code",
   "execution_count": 9,
   "metadata": {},
   "outputs": [
    {
     "name": "stdout",
     "output_type": "stream",
     "text": [
      "CPU times: user 7.43 s, sys: 1.2 s, total: 8.62 s\n",
      "Wall time: 7.25 s\n"
     ]
    }
   ],
   "source": [
    "%%time\n",
    "pipe_df = engine.run_pipeline(\n",
    "    pipe,\n",
    "    pd.Timestamp(start_date, tz='utc'),\n",
    "    pd.Timestamp(end_date, tz='utc')\n",
    ")"
   ]
  },
  {
   "cell_type": "code",
   "execution_count": 10,
   "metadata": {},
   "outputs": [
    {
     "data": {
      "text/html": [
       "<div>\n",
       "<style scoped>\n",
       "    .dataframe tbody tr th:only-of-type {\n",
       "        vertical-align: middle;\n",
       "    }\n",
       "\n",
       "    .dataframe tbody tr th {\n",
       "        vertical-align: top;\n",
       "    }\n",
       "\n",
       "    .dataframe thead th {\n",
       "        text-align: right;\n",
       "    }\n",
       "</style>\n",
       "<table border=\"1\" class=\"dataframe\">\n",
       "  <thead>\n",
       "    <tr style=\"text-align: right;\">\n",
       "      <th></th>\n",
       "      <th></th>\n",
       "      <th>ev</th>\n",
       "      <th>evebit</th>\n",
       "      <th>evebitda</th>\n",
       "      <th>marketcap</th>\n",
       "      <th>pb</th>\n",
       "      <th>pe</th>\n",
       "      <th>ps</th>\n",
       "    </tr>\n",
       "  </thead>\n",
       "  <tbody>\n",
       "    <tr>\n",
       "      <th rowspan=\"2\" valign=\"top\">2011-01-04 00:00:00+00:00</th>\n",
       "      <th>Equity(101501 [BBUCQ])</th>\n",
       "      <td>18.4</td>\n",
       "      <td>-9.4</td>\n",
       "      <td>-34.5</td>\n",
       "      <td>0.0</td>\n",
       "      <td>0.0</td>\n",
       "      <td>0.0</td>\n",
       "      <td>0.0</td>\n",
       "    </tr>\n",
       "    <tr>\n",
       "      <th>Equity(101512 [GOVB])</th>\n",
       "      <td>42.2</td>\n",
       "      <td>28.3</td>\n",
       "      <td>26.2</td>\n",
       "      <td>21.3</td>\n",
       "      <td>1.0</td>\n",
       "      <td>21.8</td>\n",
       "      <td>4.4</td>\n",
       "    </tr>\n",
       "  </tbody>\n",
       "</table>\n",
       "</div>"
      ],
      "text/plain": [
       "                                                    ev  evebit  evebitda  \\\n",
       "2011-01-04 00:00:00+00:00 Equity(101501 [BBUCQ])  18.4    -9.4     -34.5   \n",
       "                          Equity(101512 [GOVB])   42.2    28.3      26.2   \n",
       "\n",
       "                                                  marketcap   pb    pe   ps  \n",
       "2011-01-04 00:00:00+00:00 Equity(101501 [BBUCQ])        0.0  0.0   0.0  0.0  \n",
       "                          Equity(101512 [GOVB])        21.3  1.0  21.8  4.4  "
      ]
     },
     "execution_count": 10,
     "metadata": {},
     "output_type": "execute_result"
    }
   ],
   "source": [
    "pipe_df.head(2)"
   ]
  },
  {
   "cell_type": "code",
   "execution_count": 11,
   "metadata": {},
   "outputs": [
    {
     "data": {
      "image/png": "[encoded data removed]",
      "text/plain": [
       "<Figure size 648x288 with 1 Axes>"
      ]
     },
     "metadata": {
      "needs_background": "light"
     },
     "output_type": "display_data"
    }
   ],
   "source": [
    "pipe_df.groupby(level=0).count().plot(figsize=(9, 4))\n",
    "plt.xlabel('Days')\n",
    "plt.ylabel('Number of Tickers')\n",
    "plt.show()"
   ]
  },
  {
   "cell_type": "code",
   "execution_count": 12,
   "metadata": {},
   "outputs": [
    {
     "name": "stdout",
     "output_type": "stream",
     "text": [
      "9258\n"
     ]
    }
   ],
   "source": [
    "print(len(pipe_df.index.levels[1]))"
   ]
  },
  {
   "cell_type": "markdown",
   "metadata": {},
   "source": [
    "## 4. Loading Sharadar daily file for testing pipeline data"
   ]
  },
  {
   "cell_type": "code",
   "execution_count": 13,
   "metadata": {},
   "outputs": [],
   "source": [
    "sharadar_daily_file = \"./SHARADAR_DAILY.csv\"\n",
    "usecols = ['ticker', 'date'] + daily.bundle_tags"
   ]
  },
  {
   "cell_type": "code",
   "execution_count": 14,
   "metadata": {},
   "outputs": [
    {
     "name": "stdout",
     "output_type": "stream",
     "text": [
      "CPU times: user 12.2 s, sys: 454 ms, total: 12.7 s\n",
      "Wall time: 12.7 s\n"
     ]
    }
   ],
   "source": [
    "%%time\n",
    "sharadar_daily_df = pd.read_csv(sharadar_daily_file, parse_dates=['date'], usecols=usecols)"
   ]
  },
  {
   "cell_type": "code",
   "execution_count": 15,
   "metadata": {},
   "outputs": [],
   "source": [
    "raw_data = sharadar_daily_df.set_index(['date', 'ticker'])"
   ]
  },
  {
   "cell_type": "code",
   "execution_count": 16,
   "metadata": {},
   "outputs": [
    {
     "data": {
      "text/html": [
       "<div>\n",
       "<style scoped>\n",
       "    .dataframe tbody tr th:only-of-type {\n",
       "        vertical-align: middle;\n",
       "    }\n",
       "\n",
       "    .dataframe tbody tr th {\n",
       "        vertical-align: top;\n",
       "    }\n",
       "\n",
       "    .dataframe thead th {\n",
       "        text-align: right;\n",
       "    }\n",
       "</style>\n",
       "<table border=\"1\" class=\"dataframe\">\n",
       "  <thead>\n",
       "    <tr style=\"text-align: right;\">\n",
       "      <th></th>\n",
       "      <th></th>\n",
       "      <th>ev</th>\n",
       "      <th>evebit</th>\n",
       "      <th>evebitda</th>\n",
       "      <th>marketcap</th>\n",
       "      <th>pb</th>\n",
       "      <th>pe</th>\n",
       "      <th>ps</th>\n",
       "    </tr>\n",
       "    <tr>\n",
       "      <th>date</th>\n",
       "      <th>ticker</th>\n",
       "      <th></th>\n",
       "      <th></th>\n",
       "      <th></th>\n",
       "      <th></th>\n",
       "      <th></th>\n",
       "      <th></th>\n",
       "      <th></th>\n",
       "    </tr>\n",
       "  </thead>\n",
       "  <tbody>\n",
       "    <tr>\n",
       "      <th rowspan=\"2\" valign=\"top\">2011-01-03</th>\n",
       "      <th>OCN</th>\n",
       "      <td>3010.3</td>\n",
       "      <td>26.4</td>\n",
       "      <td>20.4</td>\n",
       "      <td>974.8</td>\n",
       "      <td>1.1</td>\n",
       "      <td>26.0</td>\n",
       "      <td>3.0</td>\n",
       "    </tr>\n",
       "    <tr>\n",
       "      <th>DCOM1</th>\n",
       "      <td>1553.4</td>\n",
       "      <td>24.2</td>\n",
       "      <td>23.3</td>\n",
       "      <td>524.6</td>\n",
       "      <td>1.6</td>\n",
       "      <td>13.5</td>\n",
       "      <td>4.2</td>\n",
       "    </tr>\n",
       "  </tbody>\n",
       "</table>\n",
       "</div>"
      ],
      "text/plain": [
       "                       ev  evebit  evebitda  marketcap   pb    pe   ps\n",
       "date       ticker                                                     \n",
       "2011-01-03 OCN     3010.3    26.4      20.4      974.8  1.1  26.0  3.0\n",
       "           DCOM1   1553.4    24.2      23.3      524.6  1.6  13.5  4.2"
      ]
     },
     "execution_count": 16,
     "metadata": {},
     "output_type": "execute_result"
    }
   ],
   "source": [
    "raw_data.head(2)"
   ]
  },
  {
   "cell_type": "markdown",
   "metadata": {},
   "source": [
    "## 5. Testing pipeline data"
   ]
  },
  {
   "cell_type": "markdown",
   "metadata": {},
   "source": [
    "The following code runs through all the bundle characteristics (e.g., marketcap) and for each ticker checks for potential discrepencies between the time series from Zipline pipeline and Sharadar file. "
   ]
  },
  {
   "cell_type": "code",
   "execution_count": 17,
   "metadata": {},
   "outputs": [],
   "source": [
    "def check_assets(pipe_tag_df, raw_tag_df):\n",
    "    \n",
    "    pipe_tag_assets = pipe_tag_df.columns.values\n",
    "\n",
    "    for i, asset in enumerate(pipe_tag_assets):\n",
    "\n",
    "        ticker = asset.symbol\n",
    "        \n",
    "        asset_raw_ts = raw_tag_df[ticker].dropna()\n",
    "        asset_pipe_ts = pipe_tag_df[asset].dropna() \n",
    "        \n",
    "        # PipelineReader shifted data 'that would\n",
    "        # be known at the **start** of each date'\n",
    "\n",
    "        size = min(asset_raw_ts.size, asset_pipe_ts.size)\n",
    "        if size < asset_raw_ts.size - 1:\n",
    "            print(i, ticker, size)\n",
    "        \n",
    "        std_diff = np.std(asset_raw_ts.values[:size] - asset_pipe_ts.values[:size])\n",
    "    \n",
    "        if np.abs(std_diff) > 1.e-9 :\n",
    "            print(i, ticker, std_diff)"
   ]
  },
  {
   "cell_type": "code",
   "execution_count": 19,
   "metadata": {},
   "outputs": [
    {
     "name": "stdout",
     "output_type": "stream",
     "text": [
      "0 marketcap , processing time: 7.992377042770386\n",
      "1 ev , processing time: 7.91681170463562\n",
      "2 evebit , processing time: 8.014045715332031\n",
      "3 evebitda , processing time: 7.893445730209351\n",
      "4 pb , processing time: 7.853808403015137\n",
      "5 pe , processing time: 7.791950702667236\n",
      "6 ps , processing time: 7.797475099563599\n"
     ]
    }
   ],
   "source": [
    "for i, tag_name in enumerate(daily.bundle_tags):\n",
    "    start = time.time()\n",
    "    pipe_tag_df = pipe_df[tag_name].unstack()\n",
    "    raw_tag_df = raw_data[tag_name].unstack() \n",
    "    check_assets(pipe_tag_df, raw_tag_df)\n",
    "    end = time.time()\n",
    "    print(i, tag_name, ', processing time:', end - start)"
   ]
  },
  {
   "cell_type": "code",
   "execution_count": null,
   "metadata": {},
   "outputs": [],
   "source": []
  }
 ],
 "metadata": {
  "kernelspec": {
   "display_name": "Python 3",
   "language": "python",
   "name": "python3"
  },
  "language_info": {
   "codemirror_mode": {
    "name": "ipython",
    "version": 3
   },
   "file_extension": ".py",
   "mimetype": "text/x-python",
   "name": "python",
   "nbconvert_exporter": "python",
   "pygments_lexer": "ipython3",
   "version": "3.6.13"
  }
 },
 "nbformat": 4,
 "nbformat_minor": 4
}
